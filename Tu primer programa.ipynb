{
 "cells": [
  {
   "cell_type": "code",
   "execution_count": 1,
   "id": "98339ade",
   "metadata": {},
   "outputs": [
    {
     "name": "stdout",
     "output_type": "stream",
     "text": [
      "Hola desde la consola\n"
     ]
    }
   ],
   "source": [
    "print('Hola desde la consola')"
   ]
  },
  {
   "cell_type": "code",
   "execution_count": 2,
   "id": "22a79fe4",
   "metadata": {},
   "outputs": [
    {
     "name": "stdout",
     "output_type": "stream",
     "text": [
      "6\n"
     ]
    }
   ],
   "source": [
    "    sum = 1 + 2                    #suma 1 y 2\n",
    "    product = sum * 2              #la suma le multiplica por 2\n",
    "    print(product)                 #imprime en la pantalla el resultrado"
   ]
  },
  {
   "cell_type": "code",
   "execution_count": 3,
   "id": "8a3b2920",
   "metadata": {},
   "outputs": [
    {
     "data": {
      "text/plain": [
       "float"
      ]
     },
     "execution_count": 3,
     "metadata": {},
     "output_type": "execute_result"
    }
   ],
   "source": [
    "# Declaramos la variable\n",
    "distancia_a_alfa_centauri = 4.367                  #es un numero entero y decimal\n",
    "\n",
    "# Descubrimos su tipo de dato                      #me dice el tipo de dato(flotante?)\n",
    "type(distancia_a_alfa_centauri)"
   ]
  },
  {
   "cell_type": "code",
   "execution_count": 4,
   "id": "db631214",
   "metadata": {},
   "outputs": [
    {
     "name": "stdout",
     "output_type": "stream",
     "text": [
      "2022-05-29\n"
     ]
    }
   ],
   "source": [
    "# Importamos la biblioteca \n",
    "from datetime import date\n",
    "\n",
    "# Obtenemos la fecha de hoy\n",
    "date.today()\n",
    "\n",
    "# Mostramos la fecha en la consola\n",
    "print(date.today())                                   #la fecha del sistema....(de donde este fisicamente el servidor?)"
   ]
  },
  {
   "cell_type": "code",
   "execution_count": 5,
   "id": "7d75acbb",
   "metadata": {},
   "outputs": [
    {
     "ename": "TypeError",
     "evalue": "can only concatenate str (not \"datetime.date\") to str",
     "output_type": "error",
     "traceback": [
      "\u001b[1;31m---------------------------------------------------------------------------\u001b[0m",
      "\u001b[1;31mTypeError\u001b[0m                                 Traceback (most recent call last)",
      "\u001b[1;32m~\\AppData\\Local\\Temp/ipykernel_5224/951794065.py\u001b[0m in \u001b[0;36m<module>\u001b[1;34m\u001b[0m\n\u001b[1;32m----> 1\u001b[1;33m \u001b[0mprint\u001b[0m\u001b[1;33m(\u001b[0m\u001b[1;34m\"Today's date is: \"\u001b[0m \u001b[1;33m+\u001b[0m \u001b[0mdate\u001b[0m\u001b[1;33m.\u001b[0m\u001b[0mtoday\u001b[0m\u001b[1;33m(\u001b[0m\u001b[1;33m)\u001b[0m\u001b[1;33m)\u001b[0m\u001b[1;33m\u001b[0m\u001b[1;33m\u001b[0m\u001b[0m\n\u001b[0m",
      "\u001b[1;31mTypeError\u001b[0m: can only concatenate str (not \"datetime.date\") to str"
     ]
    }
   ],
   "source": [
    "print(\"Today's date is: \" + date.today())"
   ]
  },
  {
   "cell_type": "code",
   "execution_count": 6,
   "id": "a1a21636",
   "metadata": {},
   "outputs": [
    {
     "name": "stdout",
     "output_type": "stream",
     "text": [
      "Today's date is: 2022-05-29\n"
     ]
    }
   ],
   "source": [
    "print(\"Today's date is: \" + str(date.today()))              #concatena la fecha, pero esta debe de ser una cena, no un numero"
   ]
  },
  {
   "cell_type": "code",
   "execution_count": 7,
   "id": "8f246ddf",
   "metadata": {},
   "outputs": [
    {
     "name": "stdout",
     "output_type": "stream",
     "text": [
      "Bienvenido al programa de bienvenida\n",
      "Introduzca su nombre Francisco Morales\n",
      "Saludos: Francisco Morales\n"
     ]
    }
   ],
   "source": [
    "print(\"Bienvenido al programa de bienvenida\")\n",
    "name = input(\"Introduzca su nombre \")                       #entra el nombre y concatena con un saludo\n",
    "print(\"Saludos: \" + name)"
   ]
  },
  {
   "cell_type": "code",
   "execution_count": 9,
   "id": "2ae3141b",
   "metadata": {},
   "outputs": [
    {
     "name": "stdout",
     "output_type": "stream",
     "text": [
      "Calculadora\n",
      "Primer número: 12\n",
      "Segundo número: 21\n",
      "1221\n",
      "33\n"
     ]
    }
   ],
   "source": [
    "print(\"Calculadora\")                                         #introduce un par de nuemros y los junta (no los suma)\n",
    "first_number = input(\"Primer número: \")\n",
    "second_number = input(\"Segundo número: \")\n",
    "print(first_number + second_number)\n",
    "print(int(first_number) + int(second_number))                #ahora los suma"
   ]
  },
  {
   "cell_type": "code",
   "execution_count": 12,
   "id": "87953788",
   "metadata": {},
   "outputs": [
    {
     "name": "stdout",
     "output_type": "stream",
     "text": [
      "Hoy es: 2022-05-29\n"
     ]
    }
   ],
   "source": [
    "from datetime import date\n",
    "\n",
    "print((\"Hoy es: \") + str(date.today()))                        #imprime la fecha de hoy, (puedo cambiar el orden de la fecha?)"
   ]
  },
  {
   "cell_type": "code",
   "execution_count": 17,
   "id": "ff40eed7",
   "metadata": {},
   "outputs": [
    {
     "name": "stdout",
     "output_type": "stream",
     "text": [
      "11 parsec, is 35.877159999999996 lightyears\n"
     ]
    },
    {
     "data": {
      "text/plain": [
       "float"
      ]
     },
     "execution_count": 17,
     "metadata": {},
     "output_type": "execute_result"
    }
   ],
   "source": [
    "parsec = 11\n",
    "lightyears = 3.26156 * parsec                                   # 1 parsec es 3.26156 años luz\n",
    "\n",
    "print(str(parsec) + \" parsec, is \" + str(lightyears) + \" lightyears\")\n",
    "type(lightyears)"
   ]
  },
  {
   "cell_type": "code",
   "execution_count": 18,
   "id": "9e946ee9",
   "metadata": {},
   "outputs": [],
   "source": [
    "#por que sale tanlargo el resultado por el tipo de variable (float)"
   ]
  },
  {
   "cell_type": "code",
   "execution_count": 19,
   "id": "0072b8a9",
   "metadata": {},
   "outputs": [
    {
     "name": "stdout",
     "output_type": "stream",
     "text": [
      "2022-05-29 21:24:10.271024\n",
      "2022-07-06 10:24:10.271024\n"
     ]
    }
   ],
   "source": [
    "  from datetime import *\n",
    "  from dateutil.relativedelta import *\n",
    "  now = datetime.now()\n",
    "  print(now)\n",
    "\n",
    "  now = now + relativedelta(months=1, weeks=1, hour=10)\n",
    "\n",
    "  print(now)"
   ]
  },
  {
   "cell_type": "code",
   "execution_count": null,
   "id": "e4af37a3",
   "metadata": {},
   "outputs": [],
   "source": []
  }
 ],
 "metadata": {
  "kernelspec": {
   "display_name": "Python 3 (ipykernel)",
   "language": "python",
   "name": "python3"
  },
  "language_info": {
   "codemirror_mode": {
    "name": "ipython",
    "version": 3
   },
   "file_extension": ".py",
   "mimetype": "text/x-python",
   "name": "python",
   "nbconvert_exporter": "python",
   "pygments_lexer": "ipython3",
   "version": "3.9.7"
  }
 },
 "nbformat": 4,
 "nbformat_minor": 5
}
