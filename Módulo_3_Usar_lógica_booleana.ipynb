{
  "nbformat": 4,
  "nbformat_minor": 0,
  "metadata": {
    "colab": {
      "name": "Módulo 3 - Usar lógica booleana",
      "provenance": [],
      "collapsed_sections": [],
      "authorship_tag": "ABX9TyN/6zq7LzNeNE8vt9gCYUlZ",
      "include_colab_link": true
    },
    "kernelspec": {
      "name": "python3",
      "display_name": "Python 3"
    },
    "language_info": {
      "name": "python"
    }
  },
  "cells": [
    {
      "cell_type": "markdown",
      "metadata": {
        "id": "view-in-github",
        "colab_type": "text"
      },
      "source": [
        "<a href=\"https://colab.research.google.com/github/ioiel/Introduccionphyton/blob/main/M%C3%B3dulo_3_Usar_l%C3%B3gica_booleana.ipynb\" target=\"_parent\"><img src=\"https://colab.research.google.com/assets/colab-badge.svg\" alt=\"Open In Colab\"/></a>"
      ]
    },
    {
      "cell_type": "code",
      "execution_count": 2,
      "metadata": {
        "id": "zmXhzrpiSD3Y"
      },
      "outputs": [],
      "source": [
        "# Tip de práctica 1: si...entonces, aqui la es falso, 97 esmayor que 55, entonces no imprime\n",
        "a = 97\n",
        "b = 55\n",
        "# test expression / expresión de prueba\n",
        "if a < b:\n",
        "    # statement to be run / instrucción a ejecutar\n",
        "    print(b)"
      ]
    },
    {
      "cell_type": "code",
      "source": [
        "# Aplica el tip de práctica 1. qui 93 es mayor a 27, por lo que si impimirá resultado.\n",
        "a = 93\n",
        "b = 27\n",
        "if a >= b:\n",
        "    print(a)"
      ],
      "metadata": {
        "colab": {
          "base_uri": "https://localhost:8080/"
        },
        "id": "kqvquMiNSmHq",
        "outputId": "d4fa1e6b-f618-48d3-b40d-4a00c1b07a46"
      },
      "execution_count": 3,
      "outputs": [
        {
          "output_type": "stream",
          "name": "stdout",
          "text": [
            "93\n"
          ]
        }
      ]
    },
    {
      "cell_type": "code",
      "source": [
        "# probamos si a es mayor a 93, al ser verdadero impime 93, y else no se ejecuta\n",
        "a = 93\n",
        "b = 27\n",
        "if a >= b:\n",
        "    print(a)\n",
        "else:\n",
        "    print(b)"
      ],
      "metadata": {
        "colab": {
          "base_uri": "https://localhost:8080/"
        },
        "id": "AmkoW2hITTuy",
        "outputId": "0a3c3e2d-cd5a-4eba-8a9c-a3717cbb4199"
      },
      "execution_count": 4,
      "outputs": [
        {
          "output_type": "stream",
          "name": "stdout",
          "text": [
            "93\n"
          ]
        }
      ]
    },
    {
      "cell_type": "code",
      "source": [
        "# Hacemos pruebas if else, solo se puede poner 1 solo if else, sin embargo podemos poner varios elif, para que estos funcionen la premisa incial debe ser falsa\n",
        "a = 27\n",
        "b = 27\n",
        "if a > b:\n",
        "    print(\"a es mayor que b\")\n",
        "elif a < b:\n",
        "    print(\"a es menor que b\")\n",
        "else: \n",
        "    print (\"a es igual que b\")"
      ],
      "metadata": {
        "colab": {
          "base_uri": "https://localhost:8080/"
        },
        "id": "mSIy_Ap1UGyQ",
        "outputId": "2b620540-527f-42d7-c030-461e9c50461f"
      },
      "execution_count": 11,
      "outputs": [
        {
          "output_type": "stream",
          "name": "stdout",
          "text": [
            "a es igual que b\n"
          ]
        }
      ]
    },
    {
      "cell_type": "code",
      "source": [
        "# ahora anidemos, recuerda poner orden y jerarquia en las afirmaciones, ya que podemos tener una que no permita ejecutar las demas. ¿podemos mejorarlo imprimiendo un resultado donde  la comparación es de las 3?\n",
        "a = 16\n",
        "b = 25\n",
        "c = 27\n",
        "if a > b:\n",
        "    if b > c:\n",
        "        print (\"a es mayor que b y b es mayor que c\")\n",
        "    else: \n",
        "        print (\"a es mayor que b y menor que c\")\n",
        "elif a == b:\n",
        "    print (\"a es igual que b\")\n",
        "else:\n",
        "    print (\"a es menor que b\")"
      ],
      "metadata": {
        "colab": {
          "base_uri": "https://localhost:8080/"
        },
        "id": "IeGb09yFVHuo",
        "outputId": "46719a4f-7bef-46e0-dfad-0e789f23a1fb"
      },
      "execution_count": 12,
      "outputs": [
        {
          "output_type": "stream",
          "name": "stdout",
          "text": [
            "a es menor que b\n"
          ]
        }
      ]
    },
    {
      "cell_type": "code",
      "source": [
        "# operadores or y and, usamos para comparar, en and las 2 expresiones tienen que ser verdadearas, en or alguna debe ser verdadera\n",
        "a = 23\n",
        "b = 34\n",
        "if a == 34 or b == 34:\n",
        "    print(\" a o b son 34\")\n",
        "else :\n",
        "    print (\"ni a ni b son 34\")\n",
        "a = 23\n",
        "b = 34\n",
        "if a == 34 and b == 34:\n",
        "    print (\"a y b son 34\")\n",
        "else :\n",
        "    print (\"a o b no son 34\")"
      ],
      "metadata": {
        "colab": {
          "base_uri": "https://localhost:8080/"
        },
        "id": "4iznHI2SV8WZ",
        "outputId": "16ff1eda-95eb-404d-bbf2-29fc0fd8553b"
      },
      "execution_count": 19,
      "outputs": [
        {
          "output_type": "stream",
          "name": "stdout",
          "text": [
            " a o b son 34\n",
            "a o  b no son 34\n"
          ]
        }
      ]
    }
  ]
}